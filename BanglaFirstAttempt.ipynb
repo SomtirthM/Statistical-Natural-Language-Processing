{
 "cells": [
  {
   "cell_type": "code",
   "execution_count": 1,
   "metadata": {},
   "outputs": [
    {
     "name": "stdout",
     "output_type": "stream",
     "text": [
      "Collecting bnltkNote: you may need to restart the kernel to use updated packages.\n",
      "  Downloading bnltk-0.7.6-py3-none-any.whl (11 kB)\n",
      "Requirement already satisfied: tensorflow in d:\\softwares\\anaconda\\lib\\site-packages (from bnltk) (2.1.0)\n",
      "Requirement already satisfied: keras in d:\\softwares\\anaconda\\lib\\site-packages (from bnltk) (2.3.1)\n",
      "Requirement already satisfied: numpy in d:\\softwares\\anaconda\\lib\\site-packages (from bnltk) (1.18.1)\n",
      "Requirement already satisfied: requests in d:\\softwares\\anaconda\\lib\\site-packages (from bnltk) (2.23.0)\n",
      "Collecting sklearn\n",
      "  Downloading sklearn-0.0.tar.gz (1.1 kB)\n",
      "Requirement already satisfied: keras-applications>=1.0.8 in d:\\softwares\\anaconda\\lib\\site-packages (from tensorflow->bnltk) (1.0.8)\n",
      "Requirement already satisfied: scipy==1.4.1; python_version >= \"3\" in d:\\softwares\\anaconda\\lib\\site-packages (from tensorflow->bnltk) (1.4.1)\n",
      "Requirement already satisfied: grpcio>=1.8.6 in d:\\softwares\\anaconda\\lib\\site-packages (from tensorflow->bnltk) (1.27.2)\n",
      "Requirement already satisfied: absl-py>=0.7.0 in d:\\softwares\\anaconda\\lib\\site-packages (from tensorflow->bnltk) (0.9.0)\n",
      "Requirement already satisfied: tensorflow-estimator<2.2.0,>=2.1.0rc0 in d:\\softwares\\anaconda\\lib\\site-packages (from tensorflow->bnltk) (2.1.0)\n",
      "Requirement already satisfied: wrapt>=1.11.1 in d:\\softwares\\anaconda\\lib\\site-packages (from tensorflow->bnltk) (1.12.1)\n",
      "Requirement already satisfied: six>=1.12.0 in d:\\softwares\\anaconda\\lib\\site-packages (from tensorflow->bnltk) (1.14.0)\n",
      "Requirement already satisfied: protobuf>=3.8.0 in d:\\softwares\\anaconda\\lib\\site-packages (from tensorflow->bnltk) (3.11.4)\n",
      "Requirement already satisfied: opt-einsum>=2.3.2 in d:\\softwares\\anaconda\\lib\\site-packages (from tensorflow->bnltk) (3.1.0)\n",
      "Requirement already satisfied: tensorboard<2.2.0,>=2.1.0 in d:\\softwares\\anaconda\\lib\\site-packages (from tensorflow->bnltk) (2.1.0)\n",
      "Requirement already satisfied: gast==0.2.2 in d:\\softwares\\anaconda\\lib\\site-packages (from tensorflow->bnltk) (0.2.2)\n",
      "Requirement already satisfied: wheel>=0.26; python_version >= \"3\" in d:\\softwares\\anaconda\\lib\\site-packages (from tensorflow->bnltk) (0.34.2)\n",
      "Requirement already satisfied: termcolor>=1.1.0 in d:\\softwares\\anaconda\\lib\\site-packages (from tensorflow->bnltk) (1.1.0)\n",
      "Requirement already satisfied: astor>=0.6.0 in d:\\softwares\\anaconda\\lib\\site-packages (from tensorflow->bnltk) (0.8.0)\n",
      "Requirement already satisfied: google-pasta>=0.1.6 in d:\\softwares\\anaconda\\lib\\site-packages (from tensorflow->bnltk) (0.2.0)\n",
      "Requirement already satisfied: keras-preprocessing>=1.1.0 in d:\\softwares\\anaconda\\lib\\site-packages (from tensorflow->bnltk) (1.1.0)\n",
      "Requirement already satisfied: pyyaml in d:\\softwares\\anaconda\\lib\\site-packages (from keras->bnltk) (5.3.1)\n",
      "Requirement already satisfied: h5py in d:\\softwares\\anaconda\\lib\\site-packages (from keras->bnltk) (2.10.0)\n",
      "Requirement already satisfied: urllib3!=1.25.0,!=1.25.1,<1.26,>=1.21.1 in d:\\softwares\\anaconda\\lib\\site-packages (from requests->bnltk) (1.25.8)\n",
      "Requirement already satisfied: chardet<4,>=3.0.2 in d:\\softwares\\anaconda\\lib\\site-packages (from requests->bnltk) (3.0.4)\n",
      "Requirement already satisfied: certifi>=2017.4.17 in d:\\softwares\\anaconda\\lib\\site-packages (from requests->bnltk) (2020.4.5.1)\n",
      "Requirement already satisfied: idna<3,>=2.5 in d:\\softwares\\anaconda\\lib\\site-packages (from requests->bnltk) (2.9)\n",
      "Requirement already satisfied: scikit-learn in d:\\softwares\\anaconda\\lib\\site-packages (from sklearn->bnltk) (0.22.1)\n",
      "Requirement already satisfied: setuptools in d:\\softwares\\anaconda\\lib\\site-packages (from protobuf>=3.8.0->tensorflow->bnltk) (46.1.3.post20200330)\n",
      "Requirement already satisfied: markdown>=2.6.8 in d:\\softwares\\anaconda\\lib\\site-packages (from tensorboard<2.2.0,>=2.1.0->tensorflow->bnltk) (3.1.1)\n",
      "Requirement already satisfied: google-auth-oauthlib<0.5,>=0.4.1 in d:\\softwares\\anaconda\\lib\\site-packages (from tensorboard<2.2.0,>=2.1.0->tensorflow->bnltk) (0.4.1)\n",
      "Requirement already satisfied: werkzeug>=0.11.15 in d:\\softwares\\anaconda\\lib\\site-packages (from tensorboard<2.2.0,>=2.1.0->tensorflow->bnltk) (0.16.0)\n",
      "Requirement already satisfied: google-auth<2,>=1.6.3 in d:\\softwares\\anaconda\\lib\\site-packages (from tensorboard<2.2.0,>=2.1.0->tensorflow->bnltk) (1.13.1)\n",
      "Requirement already satisfied: joblib>=0.11 in d:\\softwares\\anaconda\\lib\\site-packages (from scikit-learn->sklearn->bnltk) (0.14.1)\n",
      "Requirement already satisfied: requests-oauthlib>=0.7.0 in d:\\softwares\\anaconda\\lib\\site-packages (from google-auth-oauthlib<0.5,>=0.4.1->tensorboard<2.2.0,>=2.1.0->tensorflow->bnltk) (1.3.0)\n",
      "Requirement already satisfied: pyasn1-modules>=0.2.1 in d:\\softwares\\anaconda\\lib\\site-packages (from google-auth<2,>=1.6.3->tensorboard<2.2.0,>=2.1.0->tensorflow->bnltk) (0.2.7)\n",
      "Requirement already satisfied: rsa<4.1,>=3.1.4 in d:\\softwares\\anaconda\\lib\\site-packages (from google-auth<2,>=1.6.3->tensorboard<2.2.0,>=2.1.0->tensorflow->bnltk) (4.0)\n",
      "Requirement already satisfied: cachetools<5.0,>=2.0.0 in d:\\softwares\\anaconda\\lib\\site-packages (from google-auth<2,>=1.6.3->tensorboard<2.2.0,>=2.1.0->tensorflow->bnltk) (3.1.1)\n",
      "Requirement already satisfied: oauthlib>=3.0.0 in d:\\softwares\\anaconda\\lib\\site-packages (from requests-oauthlib>=0.7.0->google-auth-oauthlib<0.5,>=0.4.1->tensorboard<2.2.0,>=2.1.0->tensorflow->bnltk) (3.1.0)\n",
      "Requirement already satisfied: pyasn1<0.5.0,>=0.4.6 in d:\\softwares\\anaconda\\lib\\site-packages (from pyasn1-modules>=0.2.1->google-auth<2,>=1.6.3->tensorboard<2.2.0,>=2.1.0->tensorflow->bnltk) (0.4.8)\n",
      "Building wheels for collected packages: sklearn\n",
      "  Building wheel for sklearn (setup.py): started\n",
      "  Building wheel for sklearn (setup.py): finished with status 'done'\n",
      "  Created wheel for sklearn: filename=sklearn-0.0-py2.py3-none-any.whl size=1320 sha256=80001bea4f5e771fb5c77fd2fdf7687fdd28072648cc7d4f3bfdcaca6eb53202\n",
      "  Stored in directory: c:\\users\\somtirtha mukherjee\\appdata\\local\\pip\\cache\\wheels\\46\\ef\\c3\\157e41f5ee1372d1be90b09f74f82b10e391eaacca8f22d33e\n",
      "Successfully built sklearn\n",
      "Installing collected packages: sklearn, bnltk\n",
      "Successfully installed bnltk-0.7.6 sklearn-0.0\n",
      "\n"
     ]
    }
   ],
   "source": [
    "pip install bnltk"
   ]
  },
  {
   "cell_type": "code",
   "execution_count": 1,
   "metadata": {},
   "outputs": [
    {
     "name": "stdout",
     "output_type": "stream",
     "text": [
      "['আমার', 'সোনার', 'বাংলা']\n"
     ]
    }
   ],
   "source": [
    "from bnltk.tokenize import Tokenizers\n",
    "t = Tokenizers()\n",
    "print(t.bn_word_tokenizer(' আমার সোনার বাংলা । '))"
   ]
  },
  {
   "cell_type": "code",
   "execution_count": 2,
   "metadata": {},
   "outputs": [
    {
     "name": "stdout",
     "output_type": "stream",
     "text": [
      "খেয়েছিলো\n"
     ]
    }
   ],
   "source": [
    "from bnltk.stemmer import BanglaStemmer\n",
    "bn_stemmer = BanglaStemmer()\n",
    "print(bn_stemmer.stem('খেয়েছিলো'))"
   ]
  },
  {
   "cell_type": "code",
   "execution_count": 3,
   "metadata": {},
   "outputs": [
    {
     "name": "stdout",
     "output_type": "stream",
     "text": [
      "Downloading....../bn_tagged_mod.txt\n",
      "[==================================================]\n",
      "Downloading....../keras_mlp_bangla.h5\n",
      "[====================================              ]"
     ]
    },
    {
     "name": "stderr",
     "output_type": "stream",
     "text": [
      "IOPub message rate exceeded.\n",
      "The notebook server will temporarily stop sending output\n",
      "to the client in order to avoid crashing it.\n",
      "To change this limit, set the config variable\n",
      "`--NotebookApp.iopub_msg_rate_limit`.\n",
      "\n",
      "Current values:\n",
      "NotebookApp.iopub_msg_rate_limit=1000.0 (msgs/sec)\n",
      "NotebookApp.rate_limit_window=3.0 (secs)\n",
      "\n"
     ]
    },
    {
     "name": "stdout",
     "output_type": "stream",
     "text": [
      "[===========================================       ]"
     ]
    },
    {
     "name": "stderr",
     "output_type": "stream",
     "text": [
      "IOPub message rate exceeded.\n",
      "The notebook server will temporarily stop sending output\n",
      "to the client in order to avoid crashing it.\n",
      "To change this limit, set the config variable\n",
      "`--NotebookApp.iopub_msg_rate_limit`.\n",
      "\n",
      "Current values:\n",
      "NotebookApp.iopub_msg_rate_limit=1000.0 (msgs/sec)\n",
      "NotebookApp.rate_limit_window=3.0 (secs)\n",
      "\n"
     ]
    },
    {
     "name": "stdout",
     "output_type": "stream",
     "text": [
      "[=============================================     ]"
     ]
    },
    {
     "name": "stderr",
     "output_type": "stream",
     "text": [
      "IOPub message rate exceeded.\n",
      "The notebook server will temporarily stop sending output\n",
      "to the client in order to avoid crashing it.\n",
      "To change this limit, set the config variable\n",
      "`--NotebookApp.iopub_msg_rate_limit`.\n",
      "\n",
      "Current values:\n",
      "NotebookApp.iopub_msg_rate_limit=1000.0 (msgs/sec)\n",
      "NotebookApp.rate_limit_window=3.0 (secs)\n",
      "\n"
     ]
    },
    {
     "name": "stdout",
     "output_type": "stream",
     "text": [
      "[==================================================]Done!\n"
     ]
    }
   ],
   "source": [
    "from bnltk.bnltk_downloads import DataFiles\n",
    "DataFiles().download()"
   ]
  },
  {
   "cell_type": "code",
   "execution_count": 4,
   "metadata": {},
   "outputs": [
    {
     "ename": "NameError",
     "evalue": "name 'PosTagger' is not defined",
     "output_type": "error",
     "traceback": [
      "\u001b[1;31m---------------------------------------------------------------------------\u001b[0m",
      "\u001b[1;31mNameError\u001b[0m                                 Traceback (most recent call last)",
      "\u001b[1;32m<ipython-input-4-756add925e1e>\u001b[0m in \u001b[0;36m<module>\u001b[1;34m\u001b[0m\n\u001b[1;32m----> 1\u001b[1;33m \u001b[0mpos_tagger\u001b[0m \u001b[1;33m=\u001b[0m \u001b[0mPosTagger\u001b[0m\u001b[1;33m(\u001b[0m\u001b[1;33m)\u001b[0m\u001b[1;33m\u001b[0m\u001b[1;33m\u001b[0m\u001b[0m\n\u001b[0m\u001b[0;32m      2\u001b[0m \u001b[0mpos_tagger\u001b[0m\u001b[1;33m.\u001b[0m\u001b[0mloader\u001b[0m\u001b[1;33m(\u001b[0m\u001b[1;33m)\u001b[0m\u001b[1;33m\u001b[0m\u001b[1;33m\u001b[0m\u001b[0m\n\u001b[0;32m      3\u001b[0m \u001b[0msentences\u001b[0m \u001b[1;33m=\u001b[0m \u001b[1;34m'দুশ্চিন্তার কোন কারণই নাই'\u001b[0m\u001b[1;33m\u001b[0m\u001b[1;33m\u001b[0m\u001b[0m\n\u001b[0;32m      4\u001b[0m \u001b[0mprint\u001b[0m\u001b[1;33m(\u001b[0m\u001b[0mpos_tagger\u001b[0m\u001b[1;33m.\u001b[0m\u001b[0mtagger\u001b[0m\u001b[1;33m(\u001b[0m\u001b[0msentences\u001b[0m\u001b[1;33m)\u001b[0m\u001b[1;33m)\u001b[0m\u001b[1;33m\u001b[0m\u001b[1;33m\u001b[0m\u001b[0m\n",
      "\u001b[1;31mNameError\u001b[0m: name 'PosTagger' is not defined"
     ]
    }
   ],
   "source": [
    "pos_tagger = PosTagger()    \n",
    "pos_tagger.loader()\n",
    "sentences = 'দুশ্চিন্তার কোন কারণই নাই'\n",
    "print(pos_tagger.tagger(sentences))"
   ]
  },
  {
   "cell_type": "code",
   "execution_count": null,
   "metadata": {},
   "outputs": [],
   "source": []
  }
 ],
 "metadata": {
  "kernelspec": {
   "display_name": "Python 3",
   "language": "python",
   "name": "python3"
  },
  "language_info": {
   "codemirror_mode": {
    "name": "ipython",
    "version": 3
   },
   "file_extension": ".py",
   "mimetype": "text/x-python",
   "name": "python",
   "nbconvert_exporter": "python",
   "pygments_lexer": "ipython3",
   "version": "3.7.7"
  }
 },
 "nbformat": 4,
 "nbformat_minor": 4
}
